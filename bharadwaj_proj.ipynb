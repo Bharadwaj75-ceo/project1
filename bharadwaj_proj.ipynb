{
  "cells": [
    {
      "cell_type": "markdown",
      "metadata": {
        "id": "HdiHv7XJyRuG"
      },
      "source": [
        "___\n",
        "\n",
        "**Execute these each time before program execution**\n",
        "\n",
        "**Google colab doesn't save files so we have to upload audio and csv file each time we logged in.** \n",
        "\n",
        "___\n",
        "\n",
        "pip install speaker-verification-toolkit                                \n",
        "pip install numba==0.48                                                   \n",
        "pip install resampy==0.3.1\n"
      ]
    },
    {
      "cell_type": "code",
      "execution_count": null,
      "metadata": {
        "colab": {
          "background_save": true
        },
        "id": "GXjFmIkorexa"
      },
      "outputs": [],
      "source": [
        "from tkinter.ttk import Style\n",
        "import speaker_verification_toolkit as svt\n",
        "import librosa\n",
        "import pandas as pd\n",
        "import numpy as np\n",
        "import matplotlib.pylab as plt\n",
        "from glob import glob\n",
        "import librosa.display\n",
        "import IPython.display as ipd\n",
        "from itertools import cycle\n",
        "import seaborn as sns\n",
        "sns.set_theme(style=\"white\",palette=None)\n",
        "color_pal=plt.rcParams[\"axes.prop_cycle\"].by_key()[\"color\"]\n",
        "color_cycle=cycle(plt.rcParams[\"axes.prop_cycle\"].by_key()[\"color\"])\n"
      ]
    },
    {
      "cell_type": "code",
      "execution_count": null,
      "metadata": {
        "id": "pVgSCHD6rexc"
      },
      "outputs": [],
      "source": [
        "audio_files=glob('../content/Audio.wav')\n",
        "ipd.Audio(audio_files[0])"
      ]
    },
    {
      "cell_type": "code",
      "execution_count": null,
      "metadata": {
        "id": "8RPY2HNBuE5S"
      },
      "outputs": [],
      "source": [
        "y,h=librosa.load(audio_files[0])\n",
        "pd.Series(y).plot(figsize=(10,5),title=\"Raw Audio\")\n",
        "plt.show()"
      ]
    },
    {
      "cell_type": "code",
      "execution_count": null,
      "metadata": {
        "id": "Mlj6JgzauFuQ"
      },
      "outputs": [],
      "source": [
        "yt, _=librosa.effects.trim(y,top_db=20)\n",
        "pd.Series(yt).plot(figsize=(10,5),title=\"Edited Audio\",color=color_pal[1])\n",
        "plt.show()"
      ]
    },
    {
      "cell_type": "code",
      "execution_count": null,
      "metadata": {
        "id": "vUBFd15YuGIL"
      },
      "outputs": [],
      "source": [
        "D=librosa.stft(y)\n",
        "S_db=librosa.amplitude_to_db(np.abs(D),ref=np.max)\n",
        "fig,ax=plt.subplots(figsize=(10,5))\n",
        "img=librosa.display.specshow(S_db,x_axis='time',y_axis='log',ax=ax)\n",
        "ax.set_title('Spectogram',fontsize=20)\n",
        "plt.show()"
      ]
    },
    {
      "cell_type": "code",
      "execution_count": null,
      "metadata": {
        "id": "7DQhOTTquGuF"
      },
      "outputs": [],
      "source": [
        "S=librosa.feature.melspectrogram(y=y,sr=h,n_mels=120,)\n",
        "S_db_mel =librosa.amplitude_to_db(np.abs(S),ref=np.max)\n",
        "fig,ax=plt.subplots(figsize=(15,5))\n",
        "img=librosa.display.specshow(S_db_mel,x_axis='time',y_axis='log',ax=ax)\n",
        "ax.set_title('Mel Spectogram of cough sound',fontsize=20)\n",
        "plt.show()"
      ]
    },
    {
      "cell_type": "code",
      "execution_count": null,
      "metadata": {
        "id": "n9x9OeByuHAA"
      },
      "outputs": [],
      "source": [
        "import librosa\n",
        "import speaker_verification_toolkit.tools as svt\n",
        "data,sr = librosa.load('Audio.wav',sr=16000,mono='true')\n",
        "\n",
        "data = svt.rms_silence_filter(data)\n",
        "\n",
        "data = svt.extract_mfcc(data)\n",
        "\n",
        "print(\"MFCC Values:\\n\",data[1])"
      ]
    },
    {
      "cell_type": "code",
      "execution_count": null,
      "metadata": {
        "id": "jzANlkSiuHVM"
      },
      "outputs": [],
      "source": [
        "FRAME_SIZE = 1024\n",
        "HOP_LENGTH = 512\n",
        "sc_debussy = librosa.feature.spectral_centroid(y=y, sr=sr, n_fft=FRAME_SIZE, hop_length=HOP_LENGTH)[0]\n",
        "ban_debussy = librosa.feature.spectral_bandwidth(y=y, sr=sr, n_fft=FRAME_SIZE, hop_length=HOP_LENGTH)[0]\n",
        "rolloff_debussy=librosa.feature.spectral_rolloff(y=y,sr=sr,n_fft=FRAME_SIZE, hop_length=HOP_LENGTH)[0]\n",
        "frames = range(len(sc_debussy))\n",
        "t = librosa.frames_to_time(frames, hop_length=HOP_LENGTH)\n",
        "len(t)\n",
        "plt.figure(figsize=(25,10))\n",
        "plt.plot(t, rolloff_debussy,'y')\n",
        "plt.plot(t, sc_debussy, color='b')\n",
        "plt.plot(t, ban_debussy,'--r')\n",
        "plt.legend([\"Spectral RollOff\",\"Spectral centroid\",\"Spectral Bandwidth\"],loc=\"lower right\",fontsize=\"x-large\")\n",
        "plt.show()\n",
        "\n",
        "\n",
        "print(\"The values of spectral centroid, spectral bandwidth, spectral rolloff are given below:\")\n",
        "speccen=sum(ban_debussy)/len(ban_debussy)\n",
        "specban=sum(sc_debussy)/len(sc_debussy)\n",
        "specroll=sum(rolloff_debussy)/len(rolloff_debussy)\n",
        "print(\"Spectral Bandwidth :\",speccen)\n",
        "print(\"Spectral Centroid  :\",specban)\n",
        "print(\"Spectral RollOff   :\",specroll)"
      ]
    },
    {
      "cell_type": "code",
      "execution_count": null,
      "metadata": {
        "id": "sipajJE8uaGK"
      },
      "outputs": [],
      "source": []
    },
    {
      "cell_type": "code",
      "execution_count": null,
      "metadata": {
        "id": "DVr3hdnJu8Qu"
      },
      "outputs": [],
      "source": [
        "import pandas as pd\n",
        "from sklearn.model_selection import train_test_split\n",
        "from sklearn.tree import DecisionTreeClassifier\n",
        "from sklearn.metrics import accuracy_score\n",
        "\n",
        "df = pd.read_csv('../content/FEFile.csv')\n",
        "df.head()\n",
        "df = df[['spectral_centroid', 'spectral_bandwidth', 'rolloff', 'mfcc1', 'mfcc2',\n",
        "'mfcc3', 'mfcc5', 'mfcc6', 'mfcc8', 'mfcc12', 'mfcc14', 'mfcc21',\n",
        "'mfcc30', 'mfcc32', 'mfcc34', 'mfcc36', 'label']]\n",
        "df.head()\n",
        "x = df.drop(['label'], axis=1)\n",
        "y = df['label']\n",
        "x_train, x_test, y_train, y_test = train_test_split(x, y, test_size=0.3, stratify=y, random_state=100)"
      ]
    },
    {
      "cell_type": "code",
      "execution_count": null,
      "metadata": {
        "id": "UeHrjJHeu9X3"
      },
      "outputs": [],
      "source": [
        "dts = DecisionTreeClassifier()\n",
        "dts.fit(x_train, y_train)\n",
        "y_pred = dts.predict(x_test)\n",
        "ac_dts = accuracy_score(y_pred, y_test)\n",
        "ac_dts = ac_dts * 100\n",
        "msg = \"The accuracy obtained by Decision tree Clasiifier \" + str(ac_dts) + str('%')\n",
        "print(msg)\n",
        "lee=list(range(3))\n",
        "lee[0],lee[1],lee[2]=float(speccen),float(specban),float(specroll)\n",
        "floats = [float(np_float) for np_float in data[1]]\n",
        "lee=lee+floats\n"
      ]
    },
    {
      "cell_type": "code",
      "execution_count": null,
      "metadata": {
        "id": "1YMcZidHu_ge"
      },
      "outputs": [],
      "source": [
        "model = DecisionTreeClassifier()\n",
        "model.fit(x_train, y_train)\n",
        "result = model.predict([lee])\n",
        "print(result)\n",
        "result = result[0]\n",
        "if result == 'covid':\n",
        "    msg = 'The Person Has the Covid Disease, Please Consult With A Doctor 😲'\n",
        "    print(msg)\n",
        "else:\n",
        "    msg = 'You Don\\'t Have Covid, Enjoy Your Day 😜'\n",
        "    print(msg)"
      ]
    }
  ],
  "metadata": {
    "colab": {
      "provenance": []
    },
    "kernelspec": {
      "display_name": "Python 3.6.8 64-bit",
      "language": "python",
      "name": "python3"
    },
    "language_info": {
      "codemirror_mode": {
        "name": "ipython",
        "version": 3
      },
      "file_extension": ".py",
      "mimetype": "text/x-python",
      "name": "python",
      "nbconvert_exporter": "python",
      "pygments_lexer": "ipython3",
      "version": "3.6.8"
    },
    "vscode": {
      "interpreter": {
        "hash": "f4e9cda46bb2d9d7fe6ecdff0f8336a934348bf06cb492f2f42f60739b3403b4"
      }
    }
  },
  "nbformat": 4,
  "nbformat_minor": 0
}